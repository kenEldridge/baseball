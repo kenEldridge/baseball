{
 "cells": [
  {
   "cell_type": "markdown",
   "metadata": {},
   "source": [
    "# Data Exploration & Analysis of the Lehman Baseball Database\n",
    "## http://seanlahman.com/baseball-archive/statistics"
   ]
  },
  {
   "cell_type": "code",
   "execution_count": 2,
   "metadata": {
    "collapsed": false,
    "scrolled": false
   },
   "outputs": [],
   "source": [
    "%matplotlib inline\n",
    "import matplotlib.pyplot as plt\n",
    "import seaborn as sns\n",
    "import pandas as pd\n",
    "import numpy as np\n",
    "from copy import copy\n",
    "from collections import namedtuple"
   ]
  },
  {
   "cell_type": "markdown",
   "metadata": {},
   "source": [
    "### The data consists of over a dozen CSV files.  They offer a MySQL version but let's see if we can get away without that."
   ]
  },
  {
   "cell_type": "code",
   "execution_count": 3,
   "metadata": {
    "collapsed": false,
    "scrolled": true
   },
   "outputs": [
    {
     "name": "stdout",
     "output_type": "stream",
     "text": [
      "['AllstarFull.csv', 'Appearances.csv', 'AwardsManagers.csv', 'AwardsPlayers.csv', 'AwardsShareManagers.csv', 'AwardsSharePlayers.csv', 'Batting.csv', 'BattingPost.csv', 'CollegePlaying.csv', 'Fielding.csv', 'FieldingOF.csv', 'FieldingPost.csv', 'HallOfFame.csv', 'HomeGames.csv', 'Managers.csv', 'ManagersHalf.csv', 'Master.csv', 'Parks.csv', 'Pitching.csv', 'PitchingPost.csv', 'Salaries.csv', 'Schools.csv', 'SeriesPost.csv', 'Teams.csv', 'TeamsFranchises.csv', 'TeamsHalf.csv']\n",
      "AllstarFull.csv\n",
      "Index(['playerID', 'yearID', 'gameNum', 'gameID', 'teamID', 'lgID', 'GP',\n",
      "       'startingPos'],\n",
      "      dtype='object')\n",
      "Appearances.csv\n",
      "Index(['yearID', 'teamID', 'lgID', 'playerID', 'G_all', 'GS', 'G_batting',\n",
      "       'G_defense', 'G_p', 'G_c', 'G_1b', 'G_2b', 'G_3b', 'G_ss', 'G_lf',\n",
      "       'G_cf', 'G_rf', 'G_of', 'G_dh', 'G_ph', 'G_pr'],\n",
      "      dtype='object')\n",
      "AwardsManagers.csv\n",
      "Index(['playerID', 'awardID', 'yearID', 'lgID', 'tie', 'notes'], dtype='object')\n",
      "AwardsPlayers.csv\n",
      "Index(['playerID', 'awardID', 'yearID', 'lgID', 'tie', 'notes'], dtype='object')\n",
      "AwardsShareManagers.csv\n",
      "Index(['awardID', 'yearID', 'lgID', 'playerID', 'pointsWon', 'pointsMax',\n",
      "       'votesFirst'],\n",
      "      dtype='object')\n",
      "AwardsSharePlayers.csv\n",
      "Index(['awardID', 'yearID', 'lgID', 'playerID', 'pointsWon', 'pointsMax',\n",
      "       'votesFirst'],\n",
      "      dtype='object')\n",
      "Batting.csv\n",
      "Index(['playerID', 'yearID', 'stint', 'teamID', 'lgID', 'G', 'AB', 'R', 'H',\n",
      "       '2B', '3B', 'HR', 'RBI', 'SB', 'CS', 'BB', 'SO', 'IBB', 'HBP', 'SH',\n",
      "       'SF', 'GIDP'],\n",
      "      dtype='object')\n",
      "BattingPost.csv\n",
      "Index(['yearID', 'round', 'playerID', 'teamID', 'lgID', 'G', 'AB', 'R', 'H',\n",
      "       '2B', '3B', 'HR', 'RBI', 'SB', 'CS', 'BB', 'SO', 'IBB', 'HBP', 'SH',\n",
      "       'SF', 'GIDP'],\n",
      "      dtype='object')\n",
      "CollegePlaying.csv\n",
      "Index(['playerID', 'schoolID', 'yearID'], dtype='object')\n",
      "Fielding.csv\n",
      "Index(['playerID', 'yearID', 'stint', 'teamID', 'lgID', 'POS', 'G', 'GS',\n",
      "       'InnOuts', 'PO', 'A', 'E', 'DP', 'PB', 'WP', 'SB', 'CS', 'ZR'],\n",
      "      dtype='object')\n",
      "FieldingOF.csv\n",
      "Index(['playerID', 'yearID', 'stint', 'Glf', 'Gcf', 'Grf'], dtype='object')\n",
      "FieldingPost.csv\n",
      "Index(['playerID', 'yearID', 'teamID', 'lgID', 'round', 'POS', 'G', 'GS',\n",
      "       'InnOuts', 'PO', 'A', 'E', 'DP', 'TP', 'PB', 'SB', 'CS'],\n",
      "      dtype='object')\n",
      "HallOfFame.csv\n",
      "Index(['playerID', 'yearid', 'votedBy', 'ballots', 'needed', 'votes',\n",
      "       'inducted', 'category', 'needed_note'],\n",
      "      dtype='object')\n",
      "HomeGames.csv\n",
      "Index(['year.key', 'league.key', 'team.key', 'park.key', 'span.first',\n",
      "       'span.last', 'games', 'openings', 'attendance'],\n",
      "      dtype='object')\n",
      "Managers.csv\n",
      "Index(['playerID', 'yearID', 'teamID', 'lgID', 'inseason', 'G', 'W', 'L',\n",
      "       'rank', 'plyrMgr'],\n",
      "      dtype='object')\n",
      "ManagersHalf.csv\n",
      "Index(['playerID', 'yearID', 'teamID', 'lgID', 'inseason', 'half', 'G', 'W',\n",
      "       'L', 'rank'],\n",
      "      dtype='object')\n",
      "Master.csv\n",
      "Index(['playerID', 'birthYear', 'birthMonth', 'birthDay', 'birthCountry',\n",
      "       'birthState', 'birthCity', 'deathYear', 'deathMonth', 'deathDay',\n",
      "       'deathCountry', 'deathState', 'deathCity', 'nameFirst', 'nameLast',\n",
      "       'nameGiven', 'weight', 'height', 'bats', 'throws', 'debut', 'finalGame',\n",
      "       'retroID', 'bbrefID'],\n",
      "      dtype='object')\n",
      "Parks.csv\n",
      "Index(['park.key', 'park.name', 'park.alias', 'city', 'state', 'country'], dtype='object')\n",
      "Pitching.csv\n",
      "Index(['playerID', 'yearID', 'stint', 'teamID', 'lgID', 'W', 'L', 'G', 'GS',\n",
      "       'CG', 'SHO', 'SV', 'IPouts', 'H', 'ER', 'HR', 'BB', 'SO', 'BAOpp',\n",
      "       'ERA', 'IBB', 'WP', 'HBP', 'BK', 'BFP', 'GF', 'R', 'SH', 'SF', 'GIDP'],\n",
      "      dtype='object')\n",
      "PitchingPost.csv\n",
      "Index(['playerID', 'yearID', 'round', 'teamID', 'lgID', 'W', 'L', 'G', 'GS',\n",
      "       'CG', 'SHO', 'SV', 'IPouts', 'H', 'ER', 'HR', 'BB', 'SO', 'BAOpp',\n",
      "       'ERA', 'IBB', 'WP', 'HBP', 'BK', 'BFP', 'GF', 'R', 'SH', 'SF', 'GIDP'],\n",
      "      dtype='object')\n",
      "Salaries.csv\n",
      "Index(['yearID', 'teamID', 'lgID', 'playerID', 'salary'], dtype='object')\n",
      "Schools.csv\n",
      "Index(['schoolID', 'name_full', 'city', 'state', 'country'], dtype='object')\n",
      "SeriesPost.csv\n",
      "Index(['yearID', 'round', 'teamIDwinner', 'lgIDwinner', 'teamIDloser',\n",
      "       'lgIDloser', 'wins', 'losses', 'ties'],\n",
      "      dtype='object')\n",
      "Teams.csv\n",
      "Index(['yearID', 'lgID', 'teamID', 'franchID', 'divID', 'Rank', 'G', 'Ghome',\n",
      "       'W', 'L', 'DivWin', 'WCWin', 'LgWin', 'WSWin', 'R', 'AB', 'H', '2B',\n",
      "       '3B', 'HR', 'BB', 'SO', 'SB', 'CS', 'HBP', 'SF', 'RA', 'ER', 'ERA',\n",
      "       'CG', 'SHO', 'SV', 'IPouts', 'HA', 'HRA', 'BBA', 'SOA', 'E', 'DP', 'FP',\n",
      "       'name', 'park', 'attendance', 'BPF', 'PPF', 'teamIDBR',\n",
      "       'teamIDlahman45', 'teamIDretro'],\n",
      "      dtype='object')\n",
      "TeamsFranchises.csv\n",
      "Index(['franchID', 'franchName', 'active', 'NAassoc'], dtype='object')\n",
      "TeamsHalf.csv\n",
      "Index(['yearID', 'lgID', 'teamID', 'Half', 'divID', 'DivWin', 'Rank', 'G', 'W',\n",
      "       'L'],\n",
      "      dtype='object')\n"
     ]
    }
   ],
   "source": [
    "from os import listdir\n",
    "from os.path import isfile, join\n",
    "path = 'baseballdatabank-master/core/'\n",
    "files = [f for f in listdir(path) if isfile(join(path, f)) and f[len(f) - 3:] == 'csv']\n",
    "print(files)\n",
    "\n",
    "dfs = {}\n",
    "for f in files:\n",
    "    dfs[f] = pd.read_csv(path + f)\n",
    "    print(f)\n",
    "    print(dfs[f].columns)"
   ]
  },
  {
   "cell_type": "markdown",
   "metadata": {},
   "source": [
    "# Desired Attributes\n",
    "* height\n",
    "* age at debut\n",
    "* debut year\n",
    "* birth location\n",
    "* bats (r or l)\n",
    "* throws (r or l)\n",
    "* years of school\n",
    "* position played most\n",
    "* number of positions played\n",
    "* school location\n",
    "* career year\n",
    "* OBS\n",
    "* label"
   ]
  },
  {
   "cell_type": "markdown",
   "metadata": {},
   "source": [
    "## Master.csv"
   ]
  },
  {
   "cell_type": "code",
   "execution_count": 38,
   "metadata": {
    "collapsed": false
   },
   "outputs": [
    {
     "data": {
      "text/html": [
       "<div>\n",
       "<table border=\"1\" class=\"dataframe\">\n",
       "  <thead>\n",
       "    <tr style=\"text-align: right;\">\n",
       "      <th></th>\n",
       "      <th>playerID</th>\n",
       "      <th>birthYear</th>\n",
       "      <th>birthMonth</th>\n",
       "      <th>birthDay</th>\n",
       "      <th>birthCountry</th>\n",
       "      <th>birthState</th>\n",
       "      <th>birthCity</th>\n",
       "      <th>deathYear</th>\n",
       "      <th>deathMonth</th>\n",
       "      <th>deathDay</th>\n",
       "      <th>...</th>\n",
       "      <th>nameLast</th>\n",
       "      <th>nameGiven</th>\n",
       "      <th>weight</th>\n",
       "      <th>height</th>\n",
       "      <th>bats</th>\n",
       "      <th>throws</th>\n",
       "      <th>debut</th>\n",
       "      <th>finalGame</th>\n",
       "      <th>retroID</th>\n",
       "      <th>bbrefID</th>\n",
       "    </tr>\n",
       "  </thead>\n",
       "  <tbody>\n",
       "    <tr>\n",
       "      <th>0</th>\n",
       "      <td>aardsda01</td>\n",
       "      <td>1981.0</td>\n",
       "      <td>12.0</td>\n",
       "      <td>27.0</td>\n",
       "      <td>USA</td>\n",
       "      <td>CO</td>\n",
       "      <td>Denver</td>\n",
       "      <td>NaN</td>\n",
       "      <td>NaN</td>\n",
       "      <td>NaN</td>\n",
       "      <td>...</td>\n",
       "      <td>Aardsma</td>\n",
       "      <td>David Allan</td>\n",
       "      <td>220.0</td>\n",
       "      <td>75.0</td>\n",
       "      <td>R</td>\n",
       "      <td>R</td>\n",
       "      <td>2004-04-06</td>\n",
       "      <td>2015-08-23</td>\n",
       "      <td>aardd001</td>\n",
       "      <td>aardsda01</td>\n",
       "    </tr>\n",
       "    <tr>\n",
       "      <th>1</th>\n",
       "      <td>aaronha01</td>\n",
       "      <td>1934.0</td>\n",
       "      <td>2.0</td>\n",
       "      <td>5.0</td>\n",
       "      <td>USA</td>\n",
       "      <td>AL</td>\n",
       "      <td>Mobile</td>\n",
       "      <td>NaN</td>\n",
       "      <td>NaN</td>\n",
       "      <td>NaN</td>\n",
       "      <td>...</td>\n",
       "      <td>Aaron</td>\n",
       "      <td>Henry Louis</td>\n",
       "      <td>180.0</td>\n",
       "      <td>72.0</td>\n",
       "      <td>R</td>\n",
       "      <td>R</td>\n",
       "      <td>1954-04-13</td>\n",
       "      <td>1976-10-03</td>\n",
       "      <td>aaroh101</td>\n",
       "      <td>aaronha01</td>\n",
       "    </tr>\n",
       "    <tr>\n",
       "      <th>2</th>\n",
       "      <td>aaronto01</td>\n",
       "      <td>1939.0</td>\n",
       "      <td>8.0</td>\n",
       "      <td>5.0</td>\n",
       "      <td>USA</td>\n",
       "      <td>AL</td>\n",
       "      <td>Mobile</td>\n",
       "      <td>1984.0</td>\n",
       "      <td>8.0</td>\n",
       "      <td>16.0</td>\n",
       "      <td>...</td>\n",
       "      <td>Aaron</td>\n",
       "      <td>Tommie Lee</td>\n",
       "      <td>190.0</td>\n",
       "      <td>75.0</td>\n",
       "      <td>R</td>\n",
       "      <td>R</td>\n",
       "      <td>1962-04-10</td>\n",
       "      <td>1971-09-26</td>\n",
       "      <td>aarot101</td>\n",
       "      <td>aaronto01</td>\n",
       "    </tr>\n",
       "    <tr>\n",
       "      <th>3</th>\n",
       "      <td>aasedo01</td>\n",
       "      <td>1954.0</td>\n",
       "      <td>9.0</td>\n",
       "      <td>8.0</td>\n",
       "      <td>USA</td>\n",
       "      <td>CA</td>\n",
       "      <td>Orange</td>\n",
       "      <td>NaN</td>\n",
       "      <td>NaN</td>\n",
       "      <td>NaN</td>\n",
       "      <td>...</td>\n",
       "      <td>Aase</td>\n",
       "      <td>Donald William</td>\n",
       "      <td>190.0</td>\n",
       "      <td>75.0</td>\n",
       "      <td>R</td>\n",
       "      <td>R</td>\n",
       "      <td>1977-07-26</td>\n",
       "      <td>1990-10-03</td>\n",
       "      <td>aased001</td>\n",
       "      <td>aasedo01</td>\n",
       "    </tr>\n",
       "    <tr>\n",
       "      <th>4</th>\n",
       "      <td>abadan01</td>\n",
       "      <td>1972.0</td>\n",
       "      <td>8.0</td>\n",
       "      <td>25.0</td>\n",
       "      <td>USA</td>\n",
       "      <td>FL</td>\n",
       "      <td>Palm Beach</td>\n",
       "      <td>NaN</td>\n",
       "      <td>NaN</td>\n",
       "      <td>NaN</td>\n",
       "      <td>...</td>\n",
       "      <td>Abad</td>\n",
       "      <td>Fausto Andres</td>\n",
       "      <td>184.0</td>\n",
       "      <td>73.0</td>\n",
       "      <td>L</td>\n",
       "      <td>L</td>\n",
       "      <td>2001-09-10</td>\n",
       "      <td>2006-04-13</td>\n",
       "      <td>abada001</td>\n",
       "      <td>abadan01</td>\n",
       "    </tr>\n",
       "  </tbody>\n",
       "</table>\n",
       "<p>5 rows × 24 columns</p>\n",
       "</div>"
      ],
      "text/plain": [
       "    playerID  birthYear  birthMonth  birthDay birthCountry birthState  \\\n",
       "0  aardsda01     1981.0        12.0      27.0          USA         CO   \n",
       "1  aaronha01     1934.0         2.0       5.0          USA         AL   \n",
       "2  aaronto01     1939.0         8.0       5.0          USA         AL   \n",
       "3   aasedo01     1954.0         9.0       8.0          USA         CA   \n",
       "4   abadan01     1972.0         8.0      25.0          USA         FL   \n",
       "\n",
       "    birthCity  deathYear  deathMonth  deathDay    ...     nameLast  \\\n",
       "0      Denver        NaN         NaN       NaN    ...      Aardsma   \n",
       "1      Mobile        NaN         NaN       NaN    ...        Aaron   \n",
       "2      Mobile     1984.0         8.0      16.0    ...        Aaron   \n",
       "3      Orange        NaN         NaN       NaN    ...         Aase   \n",
       "4  Palm Beach        NaN         NaN       NaN    ...         Abad   \n",
       "\n",
       "        nameGiven weight height bats throws       debut   finalGame   retroID  \\\n",
       "0     David Allan  220.0   75.0    R      R  2004-04-06  2015-08-23  aardd001   \n",
       "1     Henry Louis  180.0   72.0    R      R  1954-04-13  1976-10-03  aaroh101   \n",
       "2      Tommie Lee  190.0   75.0    R      R  1962-04-10  1971-09-26  aarot101   \n",
       "3  Donald William  190.0   75.0    R      R  1977-07-26  1990-10-03  aased001   \n",
       "4   Fausto Andres  184.0   73.0    L      L  2001-09-10  2006-04-13  abada001   \n",
       "\n",
       "     bbrefID  \n",
       "0  aardsda01  \n",
       "1  aaronha01  \n",
       "2  aaronto01  \n",
       "3   aasedo01  \n",
       "4   abadan01  \n",
       "\n",
       "[5 rows x 24 columns]"
      ]
     },
     "execution_count": 38,
     "metadata": {},
     "output_type": "execute_result"
    }
   ],
   "source": [
    "dfs['Master.csv'].head()"
   ]
  },
  {
   "cell_type": "markdown",
   "metadata": {},
   "source": [
    "## Height"
   ]
  },
  {
   "cell_type": "code",
   "execution_count": 4,
   "metadata": {
    "collapsed": false,
    "scrolled": false
   },
   "outputs": [
    {
     "data": {
      "text/plain": [
       "<seaborn.axisgrid.JointGrid at 0x10651d898>"
      ]
     },
     "execution_count": 4,
     "metadata": {},
     "output_type": "execute_result"
    },
    {
     "data": {
      "image/png": "[encoded data removed]",
      "text/plain": [
       "<matplotlib.figure.Figure at 0x10651d3c8>"
      ]
     },
     "metadata": {},
     "output_type": "display_data"
    }
   ],
   "source": [
    "h_grp = dfs['Master.csv'].groupby(by='birthYear').median()\n",
    "h = h_grp[['deathYear', 'weight', 'height']].reset_index()\n",
    "\n",
    "sns.jointplot(h['weight'], h['height'])"
   ]
  },
  {
   "cell_type": "markdown",
   "metadata": {},
   "source": [
    "### It looks like height is limited to 74 inches.  Humans don't work that way."
   ]
  },
  {
   "cell_type": "code",
   "execution_count": 5,
   "metadata": {
    "collapsed": false
   },
   "outputs": [
    {
     "name": "stderr",
     "output_type": "stream",
     "text": [
      "//anaconda/lib/python3.5/site-packages/statsmodels/nonparametric/kdetools.py:20: VisibleDeprecationWarning: using a non-integer number instead of an integer will result in an error in the future\n",
      "  y = X[:m/2+1] + np.r_[0,X[m/2+1:],0]*1j\n"
     ]
    },
    {
     "data": {
      "text/plain": [
       "<matplotlib.axes._subplots.AxesSubplot at 0x118370c88>"
      ]
     },
     "execution_count": 5,
     "metadata": {},
     "output_type": "execute_result"
    },
    {
     "data": {
      "image/png": "[encoded data removed]",
      "text/plain": [
       "<matplotlib.figure.Figure at 0x1170ce898>"
      ]
     },
     "metadata": {},
     "output_type": "display_data"
    }
   ],
   "source": [
    "ht = [x for x in h['height'] if not np.isnan(x)]\n",
    "sns.distplot(ht)"
   ]
  },
  {
   "cell_type": "code",
   "execution_count": 19,
   "metadata": {
    "collapsed": false
   },
   "outputs": [
    {
     "data": {
      "text/plain": [
       "<matplotlib.axes._subplots.AxesSubplot at 0x1227001d0>"
      ]
     },
     "execution_count": 19,
     "metadata": {},
     "output_type": "execute_result"
    },
    {
     "data": {
      "image/png": "[encoded data removed]",
      "text/plain": [
       "<matplotlib.figure.Figure at 0x1225ed208>"
      ]
     },
     "metadata": {},
     "output_type": "display_data"
    }
   ],
   "source": [
    "# sns.barplot(h['birthYear'], h['height'])\n",
    "h = copy(dfs['Master.csv'][['birthYear', 'height']])\n",
    "d = [str(x)[0:3] + '0' for x in h['birthYear']]\n",
    "h['birthDecade'] = d\n",
    "h = h.sort_values(by='birthDecade')\n",
    "h = h[h['birthDecade'] != 'nan0']\n",
    "plt.figure(figsize=(10,10))\n",
    "sns.boxplot(x=\"birthDecade\", y=\"height\", data=h)"
   ]
  }
 ],
 "metadata": {
  "anaconda-cloud": {},
  "kernelspec": {
   "display_name": "Python [Root]",
   "language": "python",
   "name": "Python [Root]"
  },
  "language_info": {
   "codemirror_mode": {
    "name": "ipython",
    "version": 3
   },
   "file_extension": ".py",
   "mimetype": "text/x-python",
   "name": "python",
   "nbconvert_exporter": "python",
   "pygments_lexer": "ipython3",
   "version": "3.5.2"
  }
 },
 "nbformat": 4,
 "nbformat_minor": 0
}
