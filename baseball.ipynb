{
 "cells": [
  {
   "cell_type": "markdown",
   "metadata": {},
   "source": [
    "# Data Exploration & Analysis of the Lehman Baseball Database\n",
    "## http://seanlahman.com/baseball-archive/statistics"
   ]
  },
  {
   "cell_type": "code",
   "execution_count": 137,
   "metadata": {
    "collapsed": false,
    "scrolled": false
   },
   "outputs": [],
   "source": [
    "%matplotlib inline\n",
    "import matplotlib.pyplot as plt\n",
    "import seaborn as sns\n",
    "import pandas as pd\n",
    "import numpy as np\n",
    "from copy import copy\n",
    "from collections import namedtuple\n",
    "import datetime as dt\n",
    "from datetime import date\n",
    "from datetime import datetime"
   ]
  },
  {
   "cell_type": "markdown",
   "metadata": {},
   "source": [
    "### The data consists of over a dozen CSV files.  They offer a MySQL version but let's see if we can get away without that."
   ]
  },
  {
   "cell_type": "code",
   "execution_count": 5,
   "metadata": {
    "collapsed": false,
    "scrolled": true
   },
   "outputs": [
    {
     "name": "stdout",
     "output_type": "stream",
     "text": [
      "['AllstarFull.csv', 'Appearances.csv', 'AwardsManagers.csv', 'AwardsPlayers.csv', 'AwardsShareManagers.csv', 'AwardsSharePlayers.csv', 'Batting.csv', 'BattingPost.csv', 'CollegePlaying.csv', 'Fielding.csv', 'FieldingOF.csv', 'FieldingPost.csv', 'HallOfFame.csv', 'HomeGames.csv', 'Managers.csv', 'ManagersHalf.csv', 'Master.csv', 'Parks.csv', 'Pitching.csv', 'PitchingPost.csv', 'Salaries.csv', 'Schools.csv', 'SeriesPost.csv', 'Teams.csv', 'TeamsFranchises.csv', 'TeamsHalf.csv']\n",
      "AllstarFull.csv\n",
      "Index(['playerID', 'yearID', 'gameNum', 'gameID', 'teamID', 'lgID', 'GP',\n",
      "       'startingPos'],\n",
      "      dtype='object')\n",
      "Appearances.csv\n",
      "Index(['yearID', 'teamID', 'lgID', 'playerID', 'G_all', 'GS', 'G_batting',\n",
      "       'G_defense', 'G_p', 'G_c', 'G_1b', 'G_2b', 'G_3b', 'G_ss', 'G_lf',\n",
      "       'G_cf', 'G_rf', 'G_of', 'G_dh', 'G_ph', 'G_pr'],\n",
      "      dtype='object')\n",
      "AwardsManagers.csv\n",
      "Index(['playerID', 'awardID', 'yearID', 'lgID', 'tie', 'notes'], dtype='object')\n",
      "AwardsPlayers.csv\n",
      "Index(['playerID', 'awardID', 'yearID', 'lgID', 'tie', 'notes'], dtype='object')\n",
      "AwardsShareManagers.csv\n",
      "Index(['awardID', 'yearID', 'lgID', 'playerID', 'pointsWon', 'pointsMax',\n",
      "       'votesFirst'],\n",
      "      dtype='object')\n",
      "AwardsSharePlayers.csv\n",
      "Index(['awardID', 'yearID', 'lgID', 'playerID', 'pointsWon', 'pointsMax',\n",
      "       'votesFirst'],\n",
      "      dtype='object')\n",
      "Batting.csv\n",
      "Index(['playerID', 'yearID', 'stint', 'teamID', 'lgID', 'G', 'AB', 'R', 'H',\n",
      "       '2B', '3B', 'HR', 'RBI', 'SB', 'CS', 'BB', 'SO', 'IBB', 'HBP', 'SH',\n",
      "       'SF', 'GIDP'],\n",
      "      dtype='object')\n",
      "BattingPost.csv\n",
      "Index(['yearID', 'round', 'playerID', 'teamID', 'lgID', 'G', 'AB', 'R', 'H',\n",
      "       '2B', '3B', 'HR', 'RBI', 'SB', 'CS', 'BB', 'SO', 'IBB', 'HBP', 'SH',\n",
      "       'SF', 'GIDP'],\n",
      "      dtype='object')\n",
      "CollegePlaying.csv\n",
      "Index(['playerID', 'schoolID', 'yearID'], dtype='object')\n",
      "Fielding.csv\n",
      "Index(['playerID', 'yearID', 'stint', 'teamID', 'lgID', 'POS', 'G', 'GS',\n",
      "       'InnOuts', 'PO', 'A', 'E', 'DP', 'PB', 'WP', 'SB', 'CS', 'ZR'],\n",
      "      dtype='object')\n",
      "FieldingOF.csv\n",
      "Index(['playerID', 'yearID', 'stint', 'Glf', 'Gcf', 'Grf'], dtype='object')\n",
      "FieldingPost.csv\n",
      "Index(['playerID', 'yearID', 'teamID', 'lgID', 'round', 'POS', 'G', 'GS',\n",
      "       'InnOuts', 'PO', 'A', 'E', 'DP', 'TP', 'PB', 'SB', 'CS'],\n",
      "      dtype='object')\n",
      "HallOfFame.csv\n",
      "Index(['playerID', 'yearid', 'votedBy', 'ballots', 'needed', 'votes',\n",
      "       'inducted', 'category', 'needed_note'],\n",
      "      dtype='object')\n",
      "HomeGames.csv\n",
      "Index(['year.key', 'league.key', 'team.key', 'park.key', 'span.first',\n",
      "       'span.last', 'games', 'openings', 'attendance'],\n",
      "      dtype='object')\n",
      "Managers.csv\n",
      "Index(['playerID', 'yearID', 'teamID', 'lgID', 'inseason', 'G', 'W', 'L',\n",
      "       'rank', 'plyrMgr'],\n",
      "      dtype='object')\n",
      "ManagersHalf.csv\n",
      "Index(['playerID', 'yearID', 'teamID', 'lgID', 'inseason', 'half', 'G', 'W',\n",
      "       'L', 'rank'],\n",
      "      dtype='object')\n",
      "Master.csv\n",
      "Index(['playerID', 'birthYear', 'birthMonth', 'birthDay', 'birthCountry',\n",
      "       'birthState', 'birthCity', 'deathYear', 'deathMonth', 'deathDay',\n",
      "       'deathCountry', 'deathState', 'deathCity', 'nameFirst', 'nameLast',\n",
      "       'nameGiven', 'weight', 'height', 'bats', 'throws', 'debut', 'finalGame',\n",
      "       'retroID', 'bbrefID'],\n",
      "      dtype='object')\n",
      "Parks.csv\n",
      "Index(['park.key', 'park.name', 'park.alias', 'city', 'state', 'country'], dtype='object')\n",
      "Pitching.csv\n",
      "Index(['playerID', 'yearID', 'stint', 'teamID', 'lgID', 'W', 'L', 'G', 'GS',\n",
      "       'CG', 'SHO', 'SV', 'IPouts', 'H', 'ER', 'HR', 'BB', 'SO', 'BAOpp',\n",
      "       'ERA', 'IBB', 'WP', 'HBP', 'BK', 'BFP', 'GF', 'R', 'SH', 'SF', 'GIDP'],\n",
      "      dtype='object')\n",
      "PitchingPost.csv\n",
      "Index(['playerID', 'yearID', 'round', 'teamID', 'lgID', 'W', 'L', 'G', 'GS',\n",
      "       'CG', 'SHO', 'SV', 'IPouts', 'H', 'ER', 'HR', 'BB', 'SO', 'BAOpp',\n",
      "       'ERA', 'IBB', 'WP', 'HBP', 'BK', 'BFP', 'GF', 'R', 'SH', 'SF', 'GIDP'],\n",
      "      dtype='object')\n",
      "Salaries.csv\n",
      "Index(['yearID', 'teamID', 'lgID', 'playerID', 'salary'], dtype='object')\n",
      "Schools.csv\n",
      "Index(['schoolID', 'name_full', 'city', 'state', 'country'], dtype='object')\n",
      "SeriesPost.csv\n",
      "Index(['yearID', 'round', 'teamIDwinner', 'lgIDwinner', 'teamIDloser',\n",
      "       'lgIDloser', 'wins', 'losses', 'ties'],\n",
      "      dtype='object')\n",
      "Teams.csv\n",
      "Index(['yearID', 'lgID', 'teamID', 'franchID', 'divID', 'Rank', 'G', 'Ghome',\n",
      "       'W', 'L', 'DivWin', 'WCWin', 'LgWin', 'WSWin', 'R', 'AB', 'H', '2B',\n",
      "       '3B', 'HR', 'BB', 'SO', 'SB', 'CS', 'HBP', 'SF', 'RA', 'ER', 'ERA',\n",
      "       'CG', 'SHO', 'SV', 'IPouts', 'HA', 'HRA', 'BBA', 'SOA', 'E', 'DP', 'FP',\n",
      "       'name', 'park', 'attendance', 'BPF', 'PPF', 'teamIDBR',\n",
      "       'teamIDlahman45', 'teamIDretro'],\n",
      "      dtype='object')\n",
      "TeamsFranchises.csv\n",
      "Index(['franchID', 'franchName', 'active', 'NAassoc'], dtype='object')\n",
      "TeamsHalf.csv\n",
      "Index(['yearID', 'lgID', 'teamID', 'Half', 'divID', 'DivWin', 'Rank', 'G', 'W',\n",
      "       'L'],\n",
      "      dtype='object')\n"
     ]
    }
   ],
   "source": [
    "from os import listdir\n",
    "from os.path import isfile, join\n",
    "path = 'baseballdatabank-master/core/'\n",
    "files = [f for f in listdir(path) if isfile(join(path, f)) and f[len(f) - 3:] == 'csv']\n",
    "print(files)\n",
    "\n",
    "dfs = {}\n",
    "for f in files:\n",
    "    dfs[f] = pd.read_csv(path + f)\n",
    "    print(f)\n",
    "    print(dfs[f].columns)"
   ]
  },
  {
   "cell_type": "markdown",
   "metadata": {},
   "source": [
    "# Desired Attributes (df name)\n",
    "* height (height)\n",
    "* age at debut (age_debut)\n",
    "* debut year (debut_year)\n",
    "* birth location\n",
    "* bats (r or l)\n",
    "* throws (r or l)\n",
    "* years of school\n",
    "* position played most\n",
    "* number of positions played\n",
    "* school location\n",
    "* career year\n",
    "* OBS\n",
    "* label"
   ]
  },
  {
   "cell_type": "markdown",
   "metadata": {},
   "source": [
    "## Master.csv"
   ]
  },
  {
   "cell_type": "code",
   "execution_count": 6,
   "metadata": {
    "collapsed": false
   },
   "outputs": [
    {
     "data": {
      "text/html": [
       "<div>\n",
       "<table border=\"1\" class=\"dataframe\">\n",
       "  <thead>\n",
       "    <tr style=\"text-align: right;\">\n",
       "      <th></th>\n",
       "      <th>playerID</th>\n",
       "      <th>birthYear</th>\n",
       "      <th>birthMonth</th>\n",
       "      <th>birthDay</th>\n",
       "      <th>birthCountry</th>\n",
       "      <th>birthState</th>\n",
       "      <th>birthCity</th>\n",
       "      <th>deathYear</th>\n",
       "      <th>deathMonth</th>\n",
       "      <th>deathDay</th>\n",
       "      <th>...</th>\n",
       "      <th>nameLast</th>\n",
       "      <th>nameGiven</th>\n",
       "      <th>weight</th>\n",
       "      <th>height</th>\n",
       "      <th>bats</th>\n",
       "      <th>throws</th>\n",
       "      <th>debut</th>\n",
       "      <th>finalGame</th>\n",
       "      <th>retroID</th>\n",
       "      <th>bbrefID</th>\n",
       "    </tr>\n",
       "  </thead>\n",
       "  <tbody>\n",
       "    <tr>\n",
       "      <th>0</th>\n",
       "      <td>aardsda01</td>\n",
       "      <td>1981.0</td>\n",
       "      <td>12.0</td>\n",
       "      <td>27.0</td>\n",
       "      <td>USA</td>\n",
       "      <td>CO</td>\n",
       "      <td>Denver</td>\n",
       "      <td>NaN</td>\n",
       "      <td>NaN</td>\n",
       "      <td>NaN</td>\n",
       "      <td>...</td>\n",
       "      <td>Aardsma</td>\n",
       "      <td>David Allan</td>\n",
       "      <td>220.0</td>\n",
       "      <td>75.0</td>\n",
       "      <td>R</td>\n",
       "      <td>R</td>\n",
       "      <td>2004-04-06</td>\n",
       "      <td>2015-08-23</td>\n",
       "      <td>aardd001</td>\n",
       "      <td>aardsda01</td>\n",
       "    </tr>\n",
       "    <tr>\n",
       "      <th>1</th>\n",
       "      <td>aaronha01</td>\n",
       "      <td>1934.0</td>\n",
       "      <td>2.0</td>\n",
       "      <td>5.0</td>\n",
       "      <td>USA</td>\n",
       "      <td>AL</td>\n",
       "      <td>Mobile</td>\n",
       "      <td>NaN</td>\n",
       "      <td>NaN</td>\n",
       "      <td>NaN</td>\n",
       "      <td>...</td>\n",
       "      <td>Aaron</td>\n",
       "      <td>Henry Louis</td>\n",
       "      <td>180.0</td>\n",
       "      <td>72.0</td>\n",
       "      <td>R</td>\n",
       "      <td>R</td>\n",
       "      <td>1954-04-13</td>\n",
       "      <td>1976-10-03</td>\n",
       "      <td>aaroh101</td>\n",
       "      <td>aaronha01</td>\n",
       "    </tr>\n",
       "    <tr>\n",
       "      <th>2</th>\n",
       "      <td>aaronto01</td>\n",
       "      <td>1939.0</td>\n",
       "      <td>8.0</td>\n",
       "      <td>5.0</td>\n",
       "      <td>USA</td>\n",
       "      <td>AL</td>\n",
       "      <td>Mobile</td>\n",
       "      <td>1984.0</td>\n",
       "      <td>8.0</td>\n",
       "      <td>16.0</td>\n",
       "      <td>...</td>\n",
       "      <td>Aaron</td>\n",
       "      <td>Tommie Lee</td>\n",
       "      <td>190.0</td>\n",
       "      <td>75.0</td>\n",
       "      <td>R</td>\n",
       "      <td>R</td>\n",
       "      <td>1962-04-10</td>\n",
       "      <td>1971-09-26</td>\n",
       "      <td>aarot101</td>\n",
       "      <td>aaronto01</td>\n",
       "    </tr>\n",
       "    <tr>\n",
       "      <th>3</th>\n",
       "      <td>aasedo01</td>\n",
       "      <td>1954.0</td>\n",
       "      <td>9.0</td>\n",
       "      <td>8.0</td>\n",
       "      <td>USA</td>\n",
       "      <td>CA</td>\n",
       "      <td>Orange</td>\n",
       "      <td>NaN</td>\n",
       "      <td>NaN</td>\n",
       "      <td>NaN</td>\n",
       "      <td>...</td>\n",
       "      <td>Aase</td>\n",
       "      <td>Donald William</td>\n",
       "      <td>190.0</td>\n",
       "      <td>75.0</td>\n",
       "      <td>R</td>\n",
       "      <td>R</td>\n",
       "      <td>1977-07-26</td>\n",
       "      <td>1990-10-03</td>\n",
       "      <td>aased001</td>\n",
       "      <td>aasedo01</td>\n",
       "    </tr>\n",
       "    <tr>\n",
       "      <th>4</th>\n",
       "      <td>abadan01</td>\n",
       "      <td>1972.0</td>\n",
       "      <td>8.0</td>\n",
       "      <td>25.0</td>\n",
       "      <td>USA</td>\n",
       "      <td>FL</td>\n",
       "      <td>Palm Beach</td>\n",
       "      <td>NaN</td>\n",
       "      <td>NaN</td>\n",
       "      <td>NaN</td>\n",
       "      <td>...</td>\n",
       "      <td>Abad</td>\n",
       "      <td>Fausto Andres</td>\n",
       "      <td>184.0</td>\n",
       "      <td>73.0</td>\n",
       "      <td>L</td>\n",
       "      <td>L</td>\n",
       "      <td>2001-09-10</td>\n",
       "      <td>2006-04-13</td>\n",
       "      <td>abada001</td>\n",
       "      <td>abadan01</td>\n",
       "    </tr>\n",
       "  </tbody>\n",
       "</table>\n",
       "<p>5 rows × 24 columns</p>\n",
       "</div>"
      ],
      "text/plain": [
       "    playerID  birthYear  birthMonth  birthDay birthCountry birthState  \\\n",
       "0  aardsda01     1981.0        12.0      27.0          USA         CO   \n",
       "1  aaronha01     1934.0         2.0       5.0          USA         AL   \n",
       "2  aaronto01     1939.0         8.0       5.0          USA         AL   \n",
       "3   aasedo01     1954.0         9.0       8.0          USA         CA   \n",
       "4   abadan01     1972.0         8.0      25.0          USA         FL   \n",
       "\n",
       "    birthCity  deathYear  deathMonth  deathDay    ...     nameLast  \\\n",
       "0      Denver        NaN         NaN       NaN    ...      Aardsma   \n",
       "1      Mobile        NaN         NaN       NaN    ...        Aaron   \n",
       "2      Mobile     1984.0         8.0      16.0    ...        Aaron   \n",
       "3      Orange        NaN         NaN       NaN    ...         Aase   \n",
       "4  Palm Beach        NaN         NaN       NaN    ...         Abad   \n",
       "\n",
       "        nameGiven weight height bats throws       debut   finalGame   retroID  \\\n",
       "0     David Allan  220.0   75.0    R      R  2004-04-06  2015-08-23  aardd001   \n",
       "1     Henry Louis  180.0   72.0    R      R  1954-04-13  1976-10-03  aaroh101   \n",
       "2      Tommie Lee  190.0   75.0    R      R  1962-04-10  1971-09-26  aarot101   \n",
       "3  Donald William  190.0   75.0    R      R  1977-07-26  1990-10-03  aased001   \n",
       "4   Fausto Andres  184.0   73.0    L      L  2001-09-10  2006-04-13  abada001   \n",
       "\n",
       "     bbrefID  \n",
       "0  aardsda01  \n",
       "1  aaronha01  \n",
       "2  aaronto01  \n",
       "3   aasedo01  \n",
       "4   abadan01  \n",
       "\n",
       "[5 rows x 24 columns]"
      ]
     },
     "execution_count": 6,
     "metadata": {},
     "output_type": "execute_result"
    }
   ],
   "source": [
    "dfs['Master.csv'].head()"
   ]
  },
  {
   "cell_type": "markdown",
   "metadata": {},
   "source": [
    "## Height"
   ]
  },
  {
   "cell_type": "code",
   "execution_count": 7,
   "metadata": {
    "collapsed": false,
    "scrolled": false
   },
   "outputs": [
    {
     "data": {
      "text/plain": [
       "<seaborn.axisgrid.JointGrid at 0x119835710>"
      ]
     },
     "execution_count": 7,
     "metadata": {},
     "output_type": "execute_result"
    },
    {
     "data": {
      "image/png": "[encoded data removed]",
      "text/plain": [
       "<matplotlib.figure.Figure at 0x119835cf8>"
      ]
     },
     "metadata": {},
     "output_type": "display_data"
    }
   ],
   "source": [
    "h_grp = dfs['Master.csv'].groupby(by='birthYear').median()\n",
    "h = h_grp[['deathYear', 'weight', 'height']].reset_index()\n",
    "sns.jointplot(h['weight'], h['height'])"
   ]
  },
  {
   "cell_type": "markdown",
   "metadata": {},
   "source": [
    "### It looks like height is limited to 74 inches.  Humans don't work that way."
   ]
  },
  {
   "cell_type": "code",
   "execution_count": 8,
   "metadata": {
    "collapsed": false
   },
   "outputs": [
    {
     "name": "stderr",
     "output_type": "stream",
     "text": [
      "//anaconda/lib/python3.5/site-packages/statsmodels/nonparametric/kdetools.py:20: VisibleDeprecationWarning: using a non-integer number instead of an integer will result in an error in the future\n",
      "  y = X[:m/2+1] + np.r_[0,X[m/2+1:],0]*1j\n"
     ]
    },
    {
     "data": {
      "text/plain": [
       "<matplotlib.axes._subplots.AxesSubplot at 0x117bd1550>"
      ]
     },
     "execution_count": 8,
     "metadata": {},
     "output_type": "execute_result"
    },
    {
     "data": {
      "image/png": "[encoded data removed]",
      "text/plain": [
       "<matplotlib.figure.Figure at 0x1198353c8>"
      ]
     },
     "metadata": {},
     "output_type": "display_data"
    }
   ],
   "source": [
    "ht = [x for x in h['height'] if not np.isnan(x)]\n",
    "sns.distplot(ht)"
   ]
  },
  {
   "cell_type": "code",
   "execution_count": 164,
   "metadata": {
    "collapsed": false
   },
   "outputs": [
    {
     "data": {
      "text/plain": [
       "<matplotlib.axes._subplots.AxesSubplot at 0x12f6b1a20>"
      ]
     },
     "execution_count": 164,
     "metadata": {},
     "output_type": "execute_result"
    },
    {
     "data": {
      "image/png": "[encoded data removed]",
      "text/plain": [
       "<matplotlib.figure.Figure at 0x12fa75c88>"
      ]
     },
     "metadata": {},
     "output_type": "display_data"
    }
   ],
   "source": [
    "# sns.barplot(h['birthYear'], h['height'])\n",
    "h = copy(dfs['Master.csv'][['playerID', 'birthYear', 'height']])\n",
    "d = [str(x)[0:3] + '0' for x in h['birthYear']]\n",
    "h['birthDecade'] = d\n",
    "h = h.sort_values(by='birthDecade')\n",
    "height = h[h['birthDecade'] != 'nan0']\n",
    "plt.figure(figsize=(10,5))\n",
    "sns.boxplot(x=\"birthDecade\", y=\"height\", data=height)"
   ]
  },
  {
   "cell_type": "markdown",
   "metadata": {},
   "source": [
    "## Age at Debut"
   ]
  },
  {
   "cell_type": "code",
   "execution_count": 165,
   "metadata": {
    "collapsed": false,
    "scrolled": false
   },
   "outputs": [
    {
     "data": {
      "text/html": [
       "<div>\n",
       "<table border=\"1\" class=\"dataframe\">\n",
       "  <thead>\n",
       "    <tr style=\"text-align: right;\">\n",
       "      <th></th>\n",
       "      <th>playerID</th>\n",
       "      <th>birthYear</th>\n",
       "      <th>birthMonth</th>\n",
       "      <th>birthDay</th>\n",
       "      <th>debut</th>\n",
       "      <th>birthDecade</th>\n",
       "      <th>birthDate</th>\n",
       "      <th>age_at_debut</th>\n",
       "    </tr>\n",
       "  </thead>\n",
       "  <tbody>\n",
       "    <tr>\n",
       "      <th>2558</th>\n",
       "      <td>carlle01</td>\n",
       "      <td>1832</td>\n",
       "      <td>2</td>\n",
       "      <td>25</td>\n",
       "      <td>1874-09-09</td>\n",
       "      <td>1830</td>\n",
       "      <td>1832-02-25</td>\n",
       "      <td>15537</td>\n",
       "    </tr>\n",
       "    <tr>\n",
       "      <th>18672</th>\n",
       "      <td>yeatmbi01</td>\n",
       "      <td>1838</td>\n",
       "      <td>3</td>\n",
       "      <td>10</td>\n",
       "      <td>1872-04-20</td>\n",
       "      <td>1830</td>\n",
       "      <td>1838-03-10</td>\n",
       "      <td>12460</td>\n",
       "    </tr>\n",
       "    <tr>\n",
       "      <th>13094</th>\n",
       "      <td>pearcdi01</td>\n",
       "      <td>1836</td>\n",
       "      <td>2</td>\n",
       "      <td>29</td>\n",
       "      <td>1871-05-18</td>\n",
       "      <td>1830</td>\n",
       "      <td>1836-02-29</td>\n",
       "      <td>12862</td>\n",
       "    </tr>\n",
       "    <tr>\n",
       "      <th>18605</th>\n",
       "      <td>wrighha01</td>\n",
       "      <td>1835</td>\n",
       "      <td>1</td>\n",
       "      <td>10</td>\n",
       "      <td>1871-05-05</td>\n",
       "      <td>1830</td>\n",
       "      <td>1835-01-10</td>\n",
       "      <td>13264</td>\n",
       "    </tr>\n",
       "    <tr>\n",
       "      <th>745</th>\n",
       "      <td>barkeal01</td>\n",
       "      <td>1839</td>\n",
       "      <td>1</td>\n",
       "      <td>18</td>\n",
       "      <td>1871-06-01</td>\n",
       "      <td>1830</td>\n",
       "      <td>1839-01-18</td>\n",
       "      <td>11822</td>\n",
       "    </tr>\n",
       "  </tbody>\n",
       "</table>\n",
       "</div>"
      ],
      "text/plain": [
       "        playerID  birthYear  birthMonth  birthDay       debut birthDecade  \\\n",
       "2558    carlle01       1832           2        25  1874-09-09        1830   \n",
       "18672  yeatmbi01       1838           3        10  1872-04-20        1830   \n",
       "13094  pearcdi01       1836           2        29  1871-05-18        1830   \n",
       "18605  wrighha01       1835           1        10  1871-05-05        1830   \n",
       "745    barkeal01       1839           1        18  1871-06-01        1830   \n",
       "\n",
       "        birthDate  age_at_debut  \n",
       "2558   1832-02-25         15537  \n",
       "18672  1838-03-10         12460  \n",
       "13094  1836-02-29         12862  \n",
       "18605  1835-01-10         13264  \n",
       "745    1839-01-18         11822  "
      ]
     },
     "execution_count": 165,
     "metadata": {},
     "output_type": "execute_result"
    }
   ],
   "source": [
    "ad = copy(dfs['Master.csv'][['playerID', 'birthYear', 'birthMonth', 'birthDay', 'debut']])\n",
    "d = [str(x)[0:3] + '0' for x in ad['birthYear']]\n",
    "ad['birthDecade'] = d\n",
    "ad = ad.sort_values(by='birthDecade')\n",
    "ad = ad[ad['birthDecade'] != 'nan0']\n",
    "ad = [row for idx, row in ad.iterrows() if not np.isnan(row.birthDay) \n",
    "      and not np.isnan(row.birthMonth) and not np.isnan(row.birthYear)\n",
    "     and type(row.debut) == str]\n",
    "ad = pd.DataFrame(ad)\n",
    "ad['debut'] = [datetime.strptime(x, '%Y-%m-%d').date() for x in ad['debut'] if type(x) == str]\n",
    "ad['birthYear'] = ad['birthYear'].astype(int)\n",
    "ad['birthMonth'] = ad['birthMonth'].astype(int)\n",
    "ad['birthDay'] = ad['birthDay'].astype(int)\n",
    "ad['birthDate'] = [dt.date(row.birthYear, row.birthMonth, row.birthDay) for idx, row in ad.iterrows()]\n",
    "ad['age_at_debut'] = [(row.debut - row.birthDate).days for idx, row in ad.iterrows()]\n",
    "age_debut = ad[ad['age_at_debut'] > 0]\n",
    "age_debut.head()"
   ]
  },
  {
   "cell_type": "markdown",
   "metadata": {},
   "source": [
    "It appears the debut ages aren't correct for at least some of the 1830s"
   ]
  },
  {
   "cell_type": "code",
   "execution_count": 166,
   "metadata": {
    "collapsed": false
   },
   "outputs": [
    {
     "data": {
      "text/plain": [
       "<matplotlib.axes._subplots.AxesSubplot at 0x1304a3550>"
      ]
     },
     "execution_count": 166,
     "metadata": {},
     "output_type": "execute_result"
    },
    {
     "data": {
      "image/png": "[encoded data removed]",
      "text/plain": [
       "<matplotlib.figure.Figure at 0x12e98e588>"
      ]
     },
     "metadata": {},
     "output_type": "display_data"
    }
   ],
   "source": [
    "plt.figure(figsize=(10,5))\n",
    "sns.boxplot(x='birthDecade', y='age_at_debut', data=age_debut)"
   ]
  },
  {
   "cell_type": "markdown",
   "metadata": {},
   "source": [
    "## Debut Year"
   ]
  },
  {
   "cell_type": "code",
   "execution_count": 172,
   "metadata": {
    "collapsed": false
   },
   "outputs": [
    {
     "data": {
      "text/html": [
       "<div>\n",
       "<table border=\"1\" class=\"dataframe\">\n",
       "  <thead>\n",
       "    <tr style=\"text-align: right;\">\n",
       "      <th></th>\n",
       "      <th>playerID</th>\n",
       "      <th>debut</th>\n",
       "      <th>debut_year</th>\n",
       "    </tr>\n",
       "  </thead>\n",
       "  <tbody>\n",
       "    <tr>\n",
       "      <th>0</th>\n",
       "      <td>aardsda01</td>\n",
       "      <td>2004-04-06</td>\n",
       "      <td>2004</td>\n",
       "    </tr>\n",
       "    <tr>\n",
       "      <th>1</th>\n",
       "      <td>aaronha01</td>\n",
       "      <td>1954-04-13</td>\n",
       "      <td>1954</td>\n",
       "    </tr>\n",
       "    <tr>\n",
       "      <th>2</th>\n",
       "      <td>aaronto01</td>\n",
       "      <td>1962-04-10</td>\n",
       "      <td>1962</td>\n",
       "    </tr>\n",
       "    <tr>\n",
       "      <th>3</th>\n",
       "      <td>aasedo01</td>\n",
       "      <td>1977-07-26</td>\n",
       "      <td>1977</td>\n",
       "    </tr>\n",
       "    <tr>\n",
       "      <th>4</th>\n",
       "      <td>abadan01</td>\n",
       "      <td>2001-09-10</td>\n",
       "      <td>2001</td>\n",
       "    </tr>\n",
       "  </tbody>\n",
       "</table>\n",
       "</div>"
      ],
      "text/plain": [
       "    playerID       debut  debut_year\n",
       "0  aardsda01  2004-04-06        2004\n",
       "1  aaronha01  1954-04-13        1954\n",
       "2  aaronto01  1962-04-10        1962\n",
       "3   aasedo01  1977-07-26        1977\n",
       "4   abadan01  2001-09-10        2001"
      ]
     },
     "execution_count": 172,
     "metadata": {},
     "output_type": "execute_result"
    }
   ],
   "source": [
    "debut_year = copy(dfs['Master.csv'][['playerID', 'debut']])\n",
    "debut_year = pd.DataFrame([row for idx, row in ad.iterrows() if type(row.debut) == str])\n",
    "debut_year['debut_year'] = [datetime.strptime(x, '%Y-%m-%d').date().year for x in debut_year['debut'] if type(x) == str]\n",
    "debut_year.head()"
   ]
  },
  {
   "cell_type": "code",
   "execution_count": 173,
   "metadata": {
    "collapsed": false
   },
   "outputs": [
    {
     "data": {
      "text/html": [
       "<div>\n",
       "<table border=\"1\" class=\"dataframe\">\n",
       "  <thead>\n",
       "    <tr style=\"text-align: right;\">\n",
       "      <th></th>\n",
       "      <th>debut_year</th>\n",
       "      <th>count</th>\n",
       "    </tr>\n",
       "  </thead>\n",
       "  <tbody>\n",
       "    <tr>\n",
       "      <th>0</th>\n",
       "      <td>1871</td>\n",
       "      <td>115</td>\n",
       "    </tr>\n",
       "    <tr>\n",
       "      <th>1</th>\n",
       "      <td>1872</td>\n",
       "      <td>64</td>\n",
       "    </tr>\n",
       "    <tr>\n",
       "      <th>2</th>\n",
       "      <td>1873</td>\n",
       "      <td>33</td>\n",
       "    </tr>\n",
       "    <tr>\n",
       "      <th>3</th>\n",
       "      <td>1874</td>\n",
       "      <td>30</td>\n",
       "    </tr>\n",
       "    <tr>\n",
       "      <th>4</th>\n",
       "      <td>1875</td>\n",
       "      <td>84</td>\n",
       "    </tr>\n",
       "  </tbody>\n",
       "</table>\n",
       "</div>"
      ],
      "text/plain": [
       "   debut_year  count\n",
       "0        1871    115\n",
       "1        1872     64\n",
       "2        1873     33\n",
       "3        1874     30\n",
       "4        1875     84"
      ]
     },
     "execution_count": 173,
     "metadata": {},
     "output_type": "execute_result"
    }
   ],
   "source": [
    "ad_grp = debut_year.groupby(by='debut_year').count()\n",
    "debut_year_cnt = ad_grp.reset_index()\n",
    "del debut_year_cnt['debut']\n",
    "debut_year_cnt.columns = ['debut_year', 'count']\n",
    "debut_year_cnt.head()"
   ]
  },
  {
   "cell_type": "code",
   "execution_count": 174,
   "metadata": {
    "collapsed": false
   },
   "outputs": [
    {
     "data": {
      "text/plain": [
       "<matplotlib.axes._subplots.AxesSubplot at 0x13058bcf8>"
      ]
     },
     "execution_count": 174,
     "metadata": {},
     "output_type": "execute_result"
    },
    {
     "data": {
      "image/png": "[encoded data removed]",
      "text/plain": [
       "<matplotlib.figure.Figure at 0x129e38cf8>"
      ]
     },
     "metadata": {},
     "output_type": "display_data"
    }
   ],
   "source": [
    "plt.figure(figsize=(10,5))\n",
    "sns.barplot(debut_year_cnt['debut_year'], debut_year_cnt['count'])"
   ]
  },
  {
   "cell_type": "markdown",
   "metadata": {},
   "source": [
    "## Birth Location"
   ]
  },
  {
   "cell_type": "code",
   "execution_count": 189,
   "metadata": {
    "collapsed": false
   },
   "outputs": [
    {
     "data": {
      "text/html": [
       "<div>\n",
       "<table border=\"1\" class=\"dataframe\">\n",
       "  <thead>\n",
       "    <tr style=\"text-align: right;\">\n",
       "      <th></th>\n",
       "      <th>playerID</th>\n",
       "      <th>debut</th>\n",
       "      <th>birthCountry</th>\n",
       "      <th>birthState</th>\n",
       "      <th>debutYear</th>\n",
       "      <th>debutDecade</th>\n",
       "    </tr>\n",
       "  </thead>\n",
       "  <tbody>\n",
       "    <tr>\n",
       "      <th>11918</th>\n",
       "      <td>morrijo01</td>\n",
       "      <td>1876-04-24</td>\n",
       "      <td>USA</td>\n",
       "      <td>MA</td>\n",
       "      <td>1876</td>\n",
       "      <td>1870</td>\n",
       "    </tr>\n",
       "    <tr>\n",
       "      <th>6356</th>\n",
       "      <td>goodmja01</td>\n",
       "      <td>1878-05-02</td>\n",
       "      <td>USA</td>\n",
       "      <td>PA</td>\n",
       "      <td>1878</td>\n",
       "      <td>1870</td>\n",
       "    </tr>\n",
       "    <tr>\n",
       "      <th>11573</th>\n",
       "      <td>milleto01</td>\n",
       "      <td>1874-10-24</td>\n",
       "      <td>USA</td>\n",
       "      <td>PA</td>\n",
       "      <td>1874</td>\n",
       "      <td>1870</td>\n",
       "    </tr>\n",
       "    <tr>\n",
       "      <th>794</th>\n",
       "      <td>barnibi01</td>\n",
       "      <td>1874-05-07</td>\n",
       "      <td>USA</td>\n",
       "      <td>NY</td>\n",
       "      <td>1874</td>\n",
       "      <td>1870</td>\n",
       "    </tr>\n",
       "    <tr>\n",
       "      <th>5202</th>\n",
       "      <td>fergubo01</td>\n",
       "      <td>1871-05-18</td>\n",
       "      <td>USA</td>\n",
       "      <td>NY</td>\n",
       "      <td>1871</td>\n",
       "      <td>1870</td>\n",
       "    </tr>\n",
       "  </tbody>\n",
       "</table>\n",
       "</div>"
      ],
      "text/plain": [
       "        playerID       debut birthCountry birthState  debutYear debutDecade\n",
       "11918  morrijo01  1876-04-24          USA         MA       1876        1870\n",
       "6356   goodmja01  1878-05-02          USA         PA       1878        1870\n",
       "11573  milleto01  1874-10-24          USA         PA       1874        1870\n",
       "794    barnibi01  1874-05-07          USA         NY       1874        1870\n",
       "5202   fergubo01  1871-05-18          USA         NY       1871        1870"
      ]
     },
     "execution_count": 189,
     "metadata": {},
     "output_type": "execute_result"
    }
   ],
   "source": [
    "birth_loc = copy(dfs['Master.csv'][['playerID', 'debut', 'birthCountry', 'birthState']])\n",
    "birth_loc = pd.DataFrame([row for idx, row in birth_loc.iterrows() if type(row.debut) == str])\n",
    "birth_loc['debutYear'] = [datetime.strptime(x, '%Y-%m-%d').date().year for x in birth_loc['debut'] if type(x) == str]\n",
    "d = [str(x)[0:3] + '0' for x in birth_loc['debut']]\n",
    "birth_loc['debutDecade'] = d\n",
    "birth_loc = birth_loc.sort_values(by='debutDecade')\n",
    "birth_loc = birth_loc[birth_loc['debutDecade'] != 'nan0']\n",
    "birth_loc.head()"
   ]
  },
  {
   "cell_type": "code",
   "execution_count": 253,
   "metadata": {
    "collapsed": false,
    "scrolled": false
   },
   "outputs": [
    {
     "data": {
      "text/html": [
       "<div>\n",
       "<table border=\"1\" class=\"dataframe\">\n",
       "  <thead>\n",
       "    <tr style=\"text-align: right;\">\n",
       "      <th></th>\n",
       "      <th>birthCountry</th>\n",
       "      <th>debutDecade</th>\n",
       "      <th>count</th>\n",
       "      <th>count_decade</th>\n",
       "      <th>USA_pct</th>\n",
       "    </tr>\n",
       "  </thead>\n",
       "  <tbody>\n",
       "    <tr>\n",
       "      <th>0</th>\n",
       "      <td>USA</td>\n",
       "      <td>1870</td>\n",
       "      <td>382</td>\n",
       "      <td>448</td>\n",
       "      <td>0.852679</td>\n",
       "    </tr>\n",
       "    <tr>\n",
       "      <th>1</th>\n",
       "      <td>Ireland</td>\n",
       "      <td>1870</td>\n",
       "      <td>12</td>\n",
       "      <td>448</td>\n",
       "      <td>0.026786</td>\n",
       "    </tr>\n",
       "    <tr>\n",
       "      <th>2</th>\n",
       "      <td>Germany</td>\n",
       "      <td>1870</td>\n",
       "      <td>4</td>\n",
       "      <td>448</td>\n",
       "      <td>0.008929</td>\n",
       "    </tr>\n",
       "    <tr>\n",
       "      <th>3</th>\n",
       "      <td>Netherlands</td>\n",
       "      <td>1870</td>\n",
       "      <td>1</td>\n",
       "      <td>448</td>\n",
       "      <td>0.002232</td>\n",
       "    </tr>\n",
       "    <tr>\n",
       "      <th>4</th>\n",
       "      <td>France</td>\n",
       "      <td>1870</td>\n",
       "      <td>1</td>\n",
       "      <td>448</td>\n",
       "      <td>0.002232</td>\n",
       "    </tr>\n",
       "  </tbody>\n",
       "</table>\n",
       "</div>"
      ],
      "text/plain": [
       "  birthCountry debutDecade  count  count_decade   USA_pct\n",
       "0          USA        1870    382           448  0.852679\n",
       "1      Ireland        1870     12           448  0.026786\n",
       "2      Germany        1870      4           448  0.008929\n",
       "3  Netherlands        1870      1           448  0.002232\n",
       "4       France        1870      1           448  0.002232"
      ]
     },
     "execution_count": 253,
     "metadata": {},
     "output_type": "execute_result"
    }
   ],
   "source": [
    "birth_loc_cnt = birth_loc.groupby(['birthCountry', 'debutDecade']).count()\n",
    "birth_loc_cnt = birth_loc_cnt.reset_index()\n",
    "birth_loc_d_cnt = birth_loc.groupby(['debutDecade']).count()\n",
    "birth_loc_d_cnt = birth_loc_d_cnt.reset_index()\n",
    "birth_loc_d_cnt = birth_loc_d_cnt[['debutDecade', 'playerID']]\n",
    "birth_loc_d_cnt.columns = ['debutDecade', 'count']\n",
    "birth_loc_d_cnt = birth_loc_d_cnt.sort_values('debutDecade')\n",
    "birth_loc_cnt = birth_loc_cnt.sort_values('debutDecade').reset_index()\n",
    "birth_loc_cnt = pd.merge(birth_loc_cnt, birth_loc_d_cnt, on='debutDecade')\n",
    "birth_loc_cnt = birth_loc_cnt[['birthCountry', 'debutDecade', 'playerID', 'count']]\n",
    "birth_loc_cnt.columns = ['birthCountry', 'debutDecade', 'count', 'count_decade']\n",
    "birth_loc_cnt['USA_pct'] = birth_loc_cnt['count'] / birth_loc_cnt['count_decade']\n",
    "birth_loc_cnt.to_csv('baseball_birth_location_pct.csv')\n",
    "birth_loc_cnt.head()"
   ]
  },
  {
   "cell_type": "code",
   "execution_count": 248,
   "metadata": {
    "collapsed": false
   },
   "outputs": [
    {
     "data": {
      "text/plain": [
       "<matplotlib.axes._subplots.AxesSubplot at 0x1348e2588>"
      ]
     },
     "execution_count": 248,
     "metadata": {},
     "output_type": "execute_result"
    },
    {
     "data": {
      "image/png": "[encoded data removed]",
      "text/plain": [
       "<matplotlib.figure.Figure at 0x134879358>"
      ]
     },
     "metadata": {},
     "output_type": "display_data"
    }
   ],
   "source": [
    "birth_loc_cnt_usa = birth_loc_cnt[birth_loc_cnt['birthCountry'] == 'USA']\n",
    "plt.figure(figsize=(10,5))\n",
    "sns.barplot(x='debutDecade', y='USA_pct', data=birth_loc_cnt_usa)"
   ]
  }
 ],
 "metadata": {
  "anaconda-cloud": {},
  "kernelspec": {
   "display_name": "Python [Root]",
   "language": "python",
   "name": "Python [Root]"
  },
  "language_info": {
   "codemirror_mode": {
    "name": "ipython",
    "version": 3
   },
   "file_extension": ".py",
   "mimetype": "text/x-python",
   "name": "python",
   "nbconvert_exporter": "python",
   "pygments_lexer": "ipython3",
   "version": "3.5.2"
  }
 },
 "nbformat": 4,
 "nbformat_minor": 0
}
